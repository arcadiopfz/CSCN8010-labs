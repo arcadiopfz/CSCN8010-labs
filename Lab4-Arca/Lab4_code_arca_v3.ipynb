{
 "cells": [
  {
   "cell_type": "markdown",
   "metadata": {},
   "source": [
    "![Logo_Conestoga](https://upload.wikimedia.org/wikipedia/commons/3/34/Conestoga_College_logo.png)\n",
    "\n",
    "Foundations of Machine Learning Frameworks\n",
    "&nbsp; \n",
    "\n",
    "CSCN8010 - Winter 2024\n",
    "&nbsp; \n",
    "\n",
    "Professor: Ran Feldesh\n",
    "&nbsp;\n",
    "\n",
    "Student: Arcadio de Paula Fernandez\n",
    "\n",
    "# Practical Lab 4 - Polynomial Regression, and Evaluation using R-Squared, MAPE and MAE."
   ]
  },
  {
   "cell_type": "markdown",
   "metadata": {},
   "source": [
    "# 1. Framing the Problem - Describe the goal of this report\n",
    "\n",
    "\n",
    "The goal is to build a model that can best predict the risk of diabetes progression, given the body mass index  (BMI) feature in the dataset. This will be used as a screening tool to help physicians with identifying patients at risk."
   ]
  },
  {
   "cell_type": "markdown",
   "metadata": {},
   "source": [
    "![Image](https://d2jx2rerrg6sh3.cloudfront.net/image-handler/ts/20231024021028/ri/750/src/images/Article_Images/ImageForArticle_975_16981278236522842.png)"
   ]
  },
  {
   "cell_type": "markdown",
   "metadata": {},
   "source": [
    "# 2. Importing libraries and loading dataset"
   ]
  },
  {
   "cell_type": "markdown",
   "metadata": {},
   "source": [
    "## 2.1. Importing all the essential libraries and sub modules"
   ]
  },
  {
   "cell_type": "code",
   "execution_count": 1,
   "metadata": {},
   "outputs": [],
   "source": [
    "import pandas as pd\n",
    "import numpy as np\n",
    "import seaborn as sn\n",
    "import matplotlib.pyplot as plt\n",
    "from sklearn import datasets\n",
    "\n",
    "\n"
   ]
  },
  {
   "cell_type": "markdown",
   "metadata": {},
   "source": [
    "## 2.2. Loading the diabetes dataset from Scikit-Learn "
   ]
  },
  {
   "cell_type": "markdown",
   "metadata": {},
   "source": [
    "Scikit-Learn provides toy datasets ([list](https://scikit-learn.org/stable/datasets/toy_dataset.html)). Here we will use the diabetes dataset ([description](https://scikit-learn.org/stable/datasets/toy_dataset.html#diabetes-dataset)). "
   ]
  },
  {
   "cell_type": "code",
   "execution_count": 2,
   "metadata": {},
   "outputs": [
    {
     "data": {
      "text/plain": [
       "{'data': array([[ 0.03807591,  0.05068012,  0.06169621, ..., -0.00259226,\n",
       "          0.01990749, -0.01764613],\n",
       "        [-0.00188202, -0.04464164, -0.05147406, ..., -0.03949338,\n",
       "         -0.06833155, -0.09220405],\n",
       "        [ 0.08529891,  0.05068012,  0.04445121, ..., -0.00259226,\n",
       "          0.00286131, -0.02593034],\n",
       "        ...,\n",
       "        [ 0.04170844,  0.05068012, -0.01590626, ..., -0.01107952,\n",
       "         -0.04688253,  0.01549073],\n",
       "        [-0.04547248, -0.04464164,  0.03906215, ...,  0.02655962,\n",
       "          0.04452873, -0.02593034],\n",
       "        [-0.04547248, -0.04464164, -0.0730303 , ..., -0.03949338,\n",
       "         -0.00422151,  0.00306441]]),\n",
       " 'target': array([151.,  75., 141., 206., 135.,  97., 138.,  63., 110., 310., 101.,\n",
       "         69., 179., 185., 118., 171., 166., 144.,  97., 168.,  68.,  49.,\n",
       "         68., 245., 184., 202., 137.,  85., 131., 283., 129.,  59., 341.,\n",
       "         87.,  65., 102., 265., 276., 252.,  90., 100.,  55.,  61.,  92.,\n",
       "        259.,  53., 190., 142.,  75., 142., 155., 225.,  59., 104., 182.,\n",
       "        128.,  52.,  37., 170., 170.,  61., 144.,  52., 128.,  71., 163.,\n",
       "        150.,  97., 160., 178.,  48., 270., 202., 111.,  85.,  42., 170.,\n",
       "        200., 252., 113., 143.,  51.,  52., 210.,  65., 141.,  55., 134.,\n",
       "         42., 111.,  98., 164.,  48.,  96.,  90., 162., 150., 279.,  92.,\n",
       "         83., 128., 102., 302., 198.,  95.,  53., 134., 144., 232.,  81.,\n",
       "        104.,  59., 246., 297., 258., 229., 275., 281., 179., 200., 200.,\n",
       "        173., 180.,  84., 121., 161.,  99., 109., 115., 268., 274., 158.,\n",
       "        107.,  83., 103., 272.,  85., 280., 336., 281., 118., 317., 235.,\n",
       "         60., 174., 259., 178., 128.,  96., 126., 288.,  88., 292.,  71.,\n",
       "        197., 186.,  25.,  84.,  96., 195.,  53., 217., 172., 131., 214.,\n",
       "         59.,  70., 220., 268., 152.,  47.,  74., 295., 101., 151., 127.,\n",
       "        237., 225.,  81., 151., 107.,  64., 138., 185., 265., 101., 137.,\n",
       "        143., 141.,  79., 292., 178.,  91., 116.,  86., 122.,  72., 129.,\n",
       "        142.,  90., 158.,  39., 196., 222., 277.,  99., 196., 202., 155.,\n",
       "         77., 191.,  70.,  73.,  49.,  65., 263., 248., 296., 214., 185.,\n",
       "         78.,  93., 252., 150.,  77., 208.,  77., 108., 160.,  53., 220.,\n",
       "        154., 259.,  90., 246., 124.,  67.,  72., 257., 262., 275., 177.,\n",
       "         71.,  47., 187., 125.,  78.,  51., 258., 215., 303., 243.,  91.,\n",
       "        150., 310., 153., 346.,  63.,  89.,  50.,  39., 103., 308., 116.,\n",
       "        145.,  74.,  45., 115., 264.,  87., 202., 127., 182., 241.,  66.,\n",
       "         94., 283.,  64., 102., 200., 265.,  94., 230., 181., 156., 233.,\n",
       "         60., 219.,  80.,  68., 332., 248.,  84., 200.,  55.,  85.,  89.,\n",
       "         31., 129.,  83., 275.,  65., 198., 236., 253., 124.,  44., 172.,\n",
       "        114., 142., 109., 180., 144., 163., 147.,  97., 220., 190., 109.,\n",
       "        191., 122., 230., 242., 248., 249., 192., 131., 237.,  78., 135.,\n",
       "        244., 199., 270., 164.,  72.,  96., 306.,  91., 214.,  95., 216.,\n",
       "        263., 178., 113., 200., 139., 139.,  88., 148.,  88., 243.,  71.,\n",
       "         77., 109., 272.,  60.,  54., 221.,  90., 311., 281., 182., 321.,\n",
       "         58., 262., 206., 233., 242., 123., 167.,  63., 197.,  71., 168.,\n",
       "        140., 217., 121., 235., 245.,  40.,  52., 104., 132.,  88.,  69.,\n",
       "        219.,  72., 201., 110.,  51., 277.,  63., 118.,  69., 273., 258.,\n",
       "         43., 198., 242., 232., 175.,  93., 168., 275., 293., 281.,  72.,\n",
       "        140., 189., 181., 209., 136., 261., 113., 131., 174., 257.,  55.,\n",
       "         84.,  42., 146., 212., 233.,  91., 111., 152., 120.,  67., 310.,\n",
       "         94., 183.,  66., 173.,  72.,  49.,  64.,  48., 178., 104., 132.,\n",
       "        220.,  57.]),\n",
       " 'frame': None,\n",
       " 'DESCR': '.. _diabetes_dataset:\\n\\nDiabetes dataset\\n----------------\\n\\nTen baseline variables, age, sex, body mass index, average blood\\npressure, and six blood serum measurements were obtained for each of n =\\n442 diabetes patients, as well as the response of interest, a\\nquantitative measure of disease progression one year after baseline.\\n\\n**Data Set Characteristics:**\\n\\n  :Number of Instances: 442\\n\\n  :Number of Attributes: First 10 columns are numeric predictive values\\n\\n  :Target: Column 11 is a quantitative measure of disease progression one year after baseline\\n\\n  :Attribute Information:\\n      - age     age in years\\n      - sex\\n      - bmi     body mass index\\n      - bp      average blood pressure\\n      - s1      tc, total serum cholesterol\\n      - s2      ldl, low-density lipoproteins\\n      - s3      hdl, high-density lipoproteins\\n      - s4      tch, total cholesterol / HDL\\n      - s5      ltg, possibly log of serum triglycerides level\\n      - s6      glu, blood sugar level\\n\\nNote: Each of these 10 feature variables have been mean centered and scaled by the standard deviation times the square root of `n_samples` (i.e. the sum of squares of each column totals 1).\\n\\nSource URL:\\nhttps://www4.stat.ncsu.edu/~boos/var.select/diabetes.html\\n\\nFor more information see:\\nBradley Efron, Trevor Hastie, Iain Johnstone and Robert Tibshirani (2004) \"Least Angle Regression,\" Annals of Statistics (with discussion), 407-499.\\n(https://web.stanford.edu/~hastie/Papers/LARS/LeastAngle_2002.pdf)\\n',\n",
       " 'feature_names': ['age',\n",
       "  'sex',\n",
       "  'bmi',\n",
       "  'bp',\n",
       "  's1',\n",
       "  's2',\n",
       "  's3',\n",
       "  's4',\n",
       "  's5',\n",
       "  's6'],\n",
       " 'data_filename': 'diabetes_data_raw.csv.gz',\n",
       " 'target_filename': 'diabetes_target.csv.gz',\n",
       " 'data_module': 'sklearn.datasets.data'}"
      ]
     },
     "execution_count": 2,
     "metadata": {},
     "output_type": "execute_result"
    }
   ],
   "source": [
    "datasets.load_diabetes()"
   ]
  },
  {
   "cell_type": "code",
   "execution_count": 3,
   "metadata": {},
   "outputs": [
    {
     "name": "stdout",
     "output_type": "stream",
     "text": [
      "        age       sex       bmi        bp        s1        s2        s3   \n",
      "0  0.038076  0.050680  0.061696  0.021872 -0.044223 -0.034821 -0.043401  \\\n",
      "1 -0.001882 -0.044642 -0.051474 -0.026328 -0.008449 -0.019163  0.074412   \n",
      "2  0.085299  0.050680  0.044451 -0.005670 -0.045599 -0.034194 -0.032356   \n",
      "3 -0.089063 -0.044642 -0.011595 -0.036656  0.012191  0.024991 -0.036038   \n",
      "4  0.005383 -0.044642 -0.036385  0.021872  0.003935  0.015596  0.008142   \n",
      "\n",
      "         s4        s5        s6  target  \n",
      "0 -0.002592  0.019907 -0.017646   151.0  \n",
      "1 -0.039493 -0.068332 -0.092204    75.0  \n",
      "2 -0.002592  0.002861 -0.025930   141.0  \n",
      "3  0.034309  0.022688 -0.009362   206.0  \n",
      "4 -0.002592 -0.031988 -0.046641   135.0  \n"
     ]
    },
    {
     "data": {
      "text/html": [
       "<div>\n",
       "<style scoped>\n",
       "    .dataframe tbody tr th:only-of-type {\n",
       "        vertical-align: middle;\n",
       "    }\n",
       "\n",
       "    .dataframe tbody tr th {\n",
       "        vertical-align: top;\n",
       "    }\n",
       "\n",
       "    .dataframe thead th {\n",
       "        text-align: right;\n",
       "    }\n",
       "</style>\n",
       "<table border=\"1\" class=\"dataframe\">\n",
       "  <thead>\n",
       "    <tr style=\"text-align: right;\">\n",
       "      <th></th>\n",
       "      <th>age</th>\n",
       "      <th>sex</th>\n",
       "      <th>bmi</th>\n",
       "      <th>bp</th>\n",
       "      <th>s1</th>\n",
       "      <th>s2</th>\n",
       "      <th>s3</th>\n",
       "      <th>s4</th>\n",
       "      <th>s5</th>\n",
       "      <th>s6</th>\n",
       "      <th>target</th>\n",
       "    </tr>\n",
       "  </thead>\n",
       "  <tbody>\n",
       "    <tr>\n",
       "      <th>0</th>\n",
       "      <td>0.038076</td>\n",
       "      <td>0.050680</td>\n",
       "      <td>0.061696</td>\n",
       "      <td>0.021872</td>\n",
       "      <td>-0.044223</td>\n",
       "      <td>-0.034821</td>\n",
       "      <td>-0.043401</td>\n",
       "      <td>-0.002592</td>\n",
       "      <td>0.019907</td>\n",
       "      <td>-0.017646</td>\n",
       "      <td>151.0</td>\n",
       "    </tr>\n",
       "    <tr>\n",
       "      <th>1</th>\n",
       "      <td>-0.001882</td>\n",
       "      <td>-0.044642</td>\n",
       "      <td>-0.051474</td>\n",
       "      <td>-0.026328</td>\n",
       "      <td>-0.008449</td>\n",
       "      <td>-0.019163</td>\n",
       "      <td>0.074412</td>\n",
       "      <td>-0.039493</td>\n",
       "      <td>-0.068332</td>\n",
       "      <td>-0.092204</td>\n",
       "      <td>75.0</td>\n",
       "    </tr>\n",
       "    <tr>\n",
       "      <th>2</th>\n",
       "      <td>0.085299</td>\n",
       "      <td>0.050680</td>\n",
       "      <td>0.044451</td>\n",
       "      <td>-0.005670</td>\n",
       "      <td>-0.045599</td>\n",
       "      <td>-0.034194</td>\n",
       "      <td>-0.032356</td>\n",
       "      <td>-0.002592</td>\n",
       "      <td>0.002861</td>\n",
       "      <td>-0.025930</td>\n",
       "      <td>141.0</td>\n",
       "    </tr>\n",
       "    <tr>\n",
       "      <th>3</th>\n",
       "      <td>-0.089063</td>\n",
       "      <td>-0.044642</td>\n",
       "      <td>-0.011595</td>\n",
       "      <td>-0.036656</td>\n",
       "      <td>0.012191</td>\n",
       "      <td>0.024991</td>\n",
       "      <td>-0.036038</td>\n",
       "      <td>0.034309</td>\n",
       "      <td>0.022688</td>\n",
       "      <td>-0.009362</td>\n",
       "      <td>206.0</td>\n",
       "    </tr>\n",
       "    <tr>\n",
       "      <th>4</th>\n",
       "      <td>0.005383</td>\n",
       "      <td>-0.044642</td>\n",
       "      <td>-0.036385</td>\n",
       "      <td>0.021872</td>\n",
       "      <td>0.003935</td>\n",
       "      <td>0.015596</td>\n",
       "      <td>0.008142</td>\n",
       "      <td>-0.002592</td>\n",
       "      <td>-0.031988</td>\n",
       "      <td>-0.046641</td>\n",
       "      <td>135.0</td>\n",
       "    </tr>\n",
       "    <tr>\n",
       "      <th>...</th>\n",
       "      <td>...</td>\n",
       "      <td>...</td>\n",
       "      <td>...</td>\n",
       "      <td>...</td>\n",
       "      <td>...</td>\n",
       "      <td>...</td>\n",
       "      <td>...</td>\n",
       "      <td>...</td>\n",
       "      <td>...</td>\n",
       "      <td>...</td>\n",
       "      <td>...</td>\n",
       "    </tr>\n",
       "    <tr>\n",
       "      <th>437</th>\n",
       "      <td>0.041708</td>\n",
       "      <td>0.050680</td>\n",
       "      <td>0.019662</td>\n",
       "      <td>0.059744</td>\n",
       "      <td>-0.005697</td>\n",
       "      <td>-0.002566</td>\n",
       "      <td>-0.028674</td>\n",
       "      <td>-0.002592</td>\n",
       "      <td>0.031193</td>\n",
       "      <td>0.007207</td>\n",
       "      <td>178.0</td>\n",
       "    </tr>\n",
       "    <tr>\n",
       "      <th>438</th>\n",
       "      <td>-0.005515</td>\n",
       "      <td>0.050680</td>\n",
       "      <td>-0.015906</td>\n",
       "      <td>-0.067642</td>\n",
       "      <td>0.049341</td>\n",
       "      <td>0.079165</td>\n",
       "      <td>-0.028674</td>\n",
       "      <td>0.034309</td>\n",
       "      <td>-0.018114</td>\n",
       "      <td>0.044485</td>\n",
       "      <td>104.0</td>\n",
       "    </tr>\n",
       "    <tr>\n",
       "      <th>439</th>\n",
       "      <td>0.041708</td>\n",
       "      <td>0.050680</td>\n",
       "      <td>-0.015906</td>\n",
       "      <td>0.017293</td>\n",
       "      <td>-0.037344</td>\n",
       "      <td>-0.013840</td>\n",
       "      <td>-0.024993</td>\n",
       "      <td>-0.011080</td>\n",
       "      <td>-0.046883</td>\n",
       "      <td>0.015491</td>\n",
       "      <td>132.0</td>\n",
       "    </tr>\n",
       "    <tr>\n",
       "      <th>440</th>\n",
       "      <td>-0.045472</td>\n",
       "      <td>-0.044642</td>\n",
       "      <td>0.039062</td>\n",
       "      <td>0.001215</td>\n",
       "      <td>0.016318</td>\n",
       "      <td>0.015283</td>\n",
       "      <td>-0.028674</td>\n",
       "      <td>0.026560</td>\n",
       "      <td>0.044529</td>\n",
       "      <td>-0.025930</td>\n",
       "      <td>220.0</td>\n",
       "    </tr>\n",
       "    <tr>\n",
       "      <th>441</th>\n",
       "      <td>-0.045472</td>\n",
       "      <td>-0.044642</td>\n",
       "      <td>-0.073030</td>\n",
       "      <td>-0.081413</td>\n",
       "      <td>0.083740</td>\n",
       "      <td>0.027809</td>\n",
       "      <td>0.173816</td>\n",
       "      <td>-0.039493</td>\n",
       "      <td>-0.004222</td>\n",
       "      <td>0.003064</td>\n",
       "      <td>57.0</td>\n",
       "    </tr>\n",
       "  </tbody>\n",
       "</table>\n",
       "<p>442 rows × 11 columns</p>\n",
       "</div>"
      ],
      "text/plain": [
       "          age       sex       bmi        bp        s1        s2        s3   \n",
       "0    0.038076  0.050680  0.061696  0.021872 -0.044223 -0.034821 -0.043401  \\\n",
       "1   -0.001882 -0.044642 -0.051474 -0.026328 -0.008449 -0.019163  0.074412   \n",
       "2    0.085299  0.050680  0.044451 -0.005670 -0.045599 -0.034194 -0.032356   \n",
       "3   -0.089063 -0.044642 -0.011595 -0.036656  0.012191  0.024991 -0.036038   \n",
       "4    0.005383 -0.044642 -0.036385  0.021872  0.003935  0.015596  0.008142   \n",
       "..        ...       ...       ...       ...       ...       ...       ...   \n",
       "437  0.041708  0.050680  0.019662  0.059744 -0.005697 -0.002566 -0.028674   \n",
       "438 -0.005515  0.050680 -0.015906 -0.067642  0.049341  0.079165 -0.028674   \n",
       "439  0.041708  0.050680 -0.015906  0.017293 -0.037344 -0.013840 -0.024993   \n",
       "440 -0.045472 -0.044642  0.039062  0.001215  0.016318  0.015283 -0.028674   \n",
       "441 -0.045472 -0.044642 -0.073030 -0.081413  0.083740  0.027809  0.173816   \n",
       "\n",
       "           s4        s5        s6  target  \n",
       "0   -0.002592  0.019907 -0.017646   151.0  \n",
       "1   -0.039493 -0.068332 -0.092204    75.0  \n",
       "2   -0.002592  0.002861 -0.025930   141.0  \n",
       "3    0.034309  0.022688 -0.009362   206.0  \n",
       "4   -0.002592 -0.031988 -0.046641   135.0  \n",
       "..        ...       ...       ...     ...  \n",
       "437 -0.002592  0.031193  0.007207   178.0  \n",
       "438  0.034309 -0.018114  0.044485   104.0  \n",
       "439 -0.011080 -0.046883  0.015491   132.0  \n",
       "440  0.026560  0.044529 -0.025930   220.0  \n",
       "441 -0.039493 -0.004222  0.003064    57.0  \n",
       "\n",
       "[442 rows x 11 columns]"
      ]
     },
     "execution_count": 3,
     "metadata": {},
     "output_type": "execute_result"
    }
   ],
   "source": [
    "# Loading the diabetes dataset to a variable\n",
    "diabetes = datasets.load_diabetes()\n",
    "\n",
    "# Converting the dataset into a DataFrame\n",
    "df = pd.DataFrame(diabetes.data, columns=diabetes.feature_names)\n",
    "\n",
    "# Adding the target variable to the DataFrame. The target column (11) is a quantitative measure of disease progression one year after baseline.\n",
    "df['target'] = diabetes.target\n",
    "\n",
    "# Displaying the first few rows of the DataFrame\n",
    "print(df.head())\n",
    "df"
   ]
  },
  {
   "cell_type": "markdown",
   "metadata": {},
   "source": [
    "# 3. EDA - Describing the data, explore it, and provide insights about it. "
   ]
  },
  {
   "cell_type": "markdown",
   "metadata": {},
   "source": [
    "This should include at least: statistics, histograms, and a correlation matrix"
   ]
  },
  {
   "cell_type": "markdown",
   "metadata": {},
   "source": [
    "### 3.1. Explore statistics (e.g. using Pandas `describe` function)"
   ]
  },
  {
   "cell_type": "code",
   "execution_count": 4,
   "metadata": {},
   "outputs": [
    {
     "data": {
      "text/html": [
       "<div>\n",
       "<style scoped>\n",
       "    .dataframe tbody tr th:only-of-type {\n",
       "        vertical-align: middle;\n",
       "    }\n",
       "\n",
       "    .dataframe tbody tr th {\n",
       "        vertical-align: top;\n",
       "    }\n",
       "\n",
       "    .dataframe thead th {\n",
       "        text-align: right;\n",
       "    }\n",
       "</style>\n",
       "<table border=\"1\" class=\"dataframe\">\n",
       "  <thead>\n",
       "    <tr style=\"text-align: right;\">\n",
       "      <th></th>\n",
       "      <th>age</th>\n",
       "      <th>sex</th>\n",
       "      <th>bmi</th>\n",
       "      <th>bp</th>\n",
       "      <th>s1</th>\n",
       "      <th>s2</th>\n",
       "      <th>s3</th>\n",
       "      <th>s4</th>\n",
       "      <th>s5</th>\n",
       "      <th>s6</th>\n",
       "      <th>target</th>\n",
       "    </tr>\n",
       "  </thead>\n",
       "  <tbody>\n",
       "    <tr>\n",
       "      <th>count</th>\n",
       "      <td>4.420000e+02</td>\n",
       "      <td>4.420000e+02</td>\n",
       "      <td>4.420000e+02</td>\n",
       "      <td>4.420000e+02</td>\n",
       "      <td>4.420000e+02</td>\n",
       "      <td>4.420000e+02</td>\n",
       "      <td>4.420000e+02</td>\n",
       "      <td>4.420000e+02</td>\n",
       "      <td>4.420000e+02</td>\n",
       "      <td>4.420000e+02</td>\n",
       "      <td>442.000000</td>\n",
       "    </tr>\n",
       "    <tr>\n",
       "      <th>mean</th>\n",
       "      <td>-2.511817e-19</td>\n",
       "      <td>1.230790e-17</td>\n",
       "      <td>-2.245564e-16</td>\n",
       "      <td>-4.797570e-17</td>\n",
       "      <td>-1.381499e-17</td>\n",
       "      <td>3.918434e-17</td>\n",
       "      <td>-5.777179e-18</td>\n",
       "      <td>-9.042540e-18</td>\n",
       "      <td>9.293722e-17</td>\n",
       "      <td>1.130318e-17</td>\n",
       "      <td>152.133484</td>\n",
       "    </tr>\n",
       "    <tr>\n",
       "      <th>std</th>\n",
       "      <td>4.761905e-02</td>\n",
       "      <td>4.761905e-02</td>\n",
       "      <td>4.761905e-02</td>\n",
       "      <td>4.761905e-02</td>\n",
       "      <td>4.761905e-02</td>\n",
       "      <td>4.761905e-02</td>\n",
       "      <td>4.761905e-02</td>\n",
       "      <td>4.761905e-02</td>\n",
       "      <td>4.761905e-02</td>\n",
       "      <td>4.761905e-02</td>\n",
       "      <td>77.093005</td>\n",
       "    </tr>\n",
       "    <tr>\n",
       "      <th>min</th>\n",
       "      <td>-1.072256e-01</td>\n",
       "      <td>-4.464164e-02</td>\n",
       "      <td>-9.027530e-02</td>\n",
       "      <td>-1.123988e-01</td>\n",
       "      <td>-1.267807e-01</td>\n",
       "      <td>-1.156131e-01</td>\n",
       "      <td>-1.023071e-01</td>\n",
       "      <td>-7.639450e-02</td>\n",
       "      <td>-1.260971e-01</td>\n",
       "      <td>-1.377672e-01</td>\n",
       "      <td>25.000000</td>\n",
       "    </tr>\n",
       "    <tr>\n",
       "      <th>25%</th>\n",
       "      <td>-3.729927e-02</td>\n",
       "      <td>-4.464164e-02</td>\n",
       "      <td>-3.422907e-02</td>\n",
       "      <td>-3.665608e-02</td>\n",
       "      <td>-3.424784e-02</td>\n",
       "      <td>-3.035840e-02</td>\n",
       "      <td>-3.511716e-02</td>\n",
       "      <td>-3.949338e-02</td>\n",
       "      <td>-3.324559e-02</td>\n",
       "      <td>-3.317903e-02</td>\n",
       "      <td>87.000000</td>\n",
       "    </tr>\n",
       "    <tr>\n",
       "      <th>50%</th>\n",
       "      <td>5.383060e-03</td>\n",
       "      <td>-4.464164e-02</td>\n",
       "      <td>-7.283766e-03</td>\n",
       "      <td>-5.670422e-03</td>\n",
       "      <td>-4.320866e-03</td>\n",
       "      <td>-3.819065e-03</td>\n",
       "      <td>-6.584468e-03</td>\n",
       "      <td>-2.592262e-03</td>\n",
       "      <td>-1.947171e-03</td>\n",
       "      <td>-1.077698e-03</td>\n",
       "      <td>140.500000</td>\n",
       "    </tr>\n",
       "    <tr>\n",
       "      <th>75%</th>\n",
       "      <td>3.807591e-02</td>\n",
       "      <td>5.068012e-02</td>\n",
       "      <td>3.124802e-02</td>\n",
       "      <td>3.564379e-02</td>\n",
       "      <td>2.835801e-02</td>\n",
       "      <td>2.984439e-02</td>\n",
       "      <td>2.931150e-02</td>\n",
       "      <td>3.430886e-02</td>\n",
       "      <td>3.243232e-02</td>\n",
       "      <td>2.791705e-02</td>\n",
       "      <td>211.500000</td>\n",
       "    </tr>\n",
       "    <tr>\n",
       "      <th>max</th>\n",
       "      <td>1.107267e-01</td>\n",
       "      <td>5.068012e-02</td>\n",
       "      <td>1.705552e-01</td>\n",
       "      <td>1.320436e-01</td>\n",
       "      <td>1.539137e-01</td>\n",
       "      <td>1.987880e-01</td>\n",
       "      <td>1.811791e-01</td>\n",
       "      <td>1.852344e-01</td>\n",
       "      <td>1.335973e-01</td>\n",
       "      <td>1.356118e-01</td>\n",
       "      <td>346.000000</td>\n",
       "    </tr>\n",
       "  </tbody>\n",
       "</table>\n",
       "</div>"
      ],
      "text/plain": [
       "                age           sex           bmi            bp            s1   \n",
       "count  4.420000e+02  4.420000e+02  4.420000e+02  4.420000e+02  4.420000e+02  \\\n",
       "mean  -2.511817e-19  1.230790e-17 -2.245564e-16 -4.797570e-17 -1.381499e-17   \n",
       "std    4.761905e-02  4.761905e-02  4.761905e-02  4.761905e-02  4.761905e-02   \n",
       "min   -1.072256e-01 -4.464164e-02 -9.027530e-02 -1.123988e-01 -1.267807e-01   \n",
       "25%   -3.729927e-02 -4.464164e-02 -3.422907e-02 -3.665608e-02 -3.424784e-02   \n",
       "50%    5.383060e-03 -4.464164e-02 -7.283766e-03 -5.670422e-03 -4.320866e-03   \n",
       "75%    3.807591e-02  5.068012e-02  3.124802e-02  3.564379e-02  2.835801e-02   \n",
       "max    1.107267e-01  5.068012e-02  1.705552e-01  1.320436e-01  1.539137e-01   \n",
       "\n",
       "                 s2            s3            s4            s5            s6   \n",
       "count  4.420000e+02  4.420000e+02  4.420000e+02  4.420000e+02  4.420000e+02  \\\n",
       "mean   3.918434e-17 -5.777179e-18 -9.042540e-18  9.293722e-17  1.130318e-17   \n",
       "std    4.761905e-02  4.761905e-02  4.761905e-02  4.761905e-02  4.761905e-02   \n",
       "min   -1.156131e-01 -1.023071e-01 -7.639450e-02 -1.260971e-01 -1.377672e-01   \n",
       "25%   -3.035840e-02 -3.511716e-02 -3.949338e-02 -3.324559e-02 -3.317903e-02   \n",
       "50%   -3.819065e-03 -6.584468e-03 -2.592262e-03 -1.947171e-03 -1.077698e-03   \n",
       "75%    2.984439e-02  2.931150e-02  3.430886e-02  3.243232e-02  2.791705e-02   \n",
       "max    1.987880e-01  1.811791e-01  1.852344e-01  1.335973e-01  1.356118e-01   \n",
       "\n",
       "           target  \n",
       "count  442.000000  \n",
       "mean   152.133484  \n",
       "std     77.093005  \n",
       "min     25.000000  \n",
       "25%     87.000000  \n",
       "50%    140.500000  \n",
       "75%    211.500000  \n",
       "max    346.000000  "
      ]
     },
     "execution_count": 4,
     "metadata": {},
     "output_type": "execute_result"
    }
   ],
   "source": [
    "df.describe()"
   ]
  },
  {
   "cell_type": "markdown",
   "metadata": {},
   "source": [
    "We have 442 observations for all variables, showing a complete dataset in all columns. \n",
    "\n",
    "The mean of the BMI is -2.245564e-16, as the mean is adjusted to be around 0 we can interpret that this value is expected in standardized data. In the BMI column, the third quartile (Q3) is  0.03124802, this means that 75% of the BMI values are below this standardized score.\n",
    "\n",
    "In the sex column, the minimum value is -4.464164e-02,  the same as the first (Q1) and second quartile (Q2) values and the maximum value is 0.05068012 the same as the third quartile (Q3) value, indicating a binary variable."
   ]
  },
  {
   "cell_type": "markdown",
   "metadata": {},
   "source": [
    "### 3.2. Creating histograms Matrix using Pandas --> df.hist()"
   ]
  },
  {
   "cell_type": "code",
   "execution_count": 5,
   "metadata": {},
   "outputs": [
    {
     "data": {
      "text/plain": [
       "<matplotlib.lines.Line2D at 0x226f0e4d850>"
      ]
     },
     "execution_count": 5,
     "metadata": {},
     "output_type": "execute_result"
    },
    {
     "data": {
      "image/png": "[encoded data removed]",
      "text/plain": [
       "<Figure size 1000x600 with 1 Axes>"
      ]
     },
     "metadata": {},
     "output_type": "display_data"
    }
   ],
   "source": [
    "# df_age_hist = df.hist(column=\"age\",bins=25)  \n",
    "plt.figure(figsize=(10, 6))\n",
    "df['age'].hist(bins=25, edgecolor='k', alpha=0.7)\n",
    "plt.title('Histogram of Age in Diabetes Dataset')  # This sets the title of the plot\n",
    "plt.xlabel('Age (normalized)')  # Sets the x-axis label\n",
    "plt.ylabel('Frequency')\n",
    "\n",
    "\n",
    "mean_age = df['age'].mean()  # Calculate the mean of the 'age' column.\n",
    "median_age = df['age'].median()  # Calculate the median of the 'age' column.\n",
    "mode_age = df['age'].mode()[0]  # Calculate the mode of the 'age' colum and [0] after df['age'].mode() is used to access the first element of the mode Series\n",
    "\n",
    "plt.axvline(mean_age, color='black', linestyle='dashed', linewidth=1)  # Draw a vertical line at the mean value.\n",
    "plt.axvline(median_age, color='red', linestyle='dashed', linewidth=1)  # Draw a vertical line at the median value.\n",
    "plt.axvline(mode_age, color='blue', linestyle='dashed', linewidth=1)  # Draw a vertical line at the mode value."
   ]
  },
  {
   "cell_type": "markdown",
   "metadata": {},
   "source": [
    "The x-axis is going from approximately - 0.12 to 0.12, these values are possibly standardized scores, which are the result of a normalization. This shows that the histogram distributes the participants over different normalized age values. \n",
    "\n",
    "Without exact age values, we can't achieve the correct ages but can note a range of ages in the peaks of the histogram near the mode, mean, median and near  - 0.05 and 0.05.  "
   ]
  },
  {
   "cell_type": "markdown",
   "metadata": {},
   "source": [
    "### 3.3. Creating the Correlation Matrix using Pandas --> df.corr()"
   ]
  },
  {
   "cell_type": "code",
   "execution_count": 6,
   "metadata": {},
   "outputs": [
    {
     "name": "stdout",
     "output_type": "stream",
     "text": [
      "             age       sex       bmi        bp        s1        s2        s3   \n",
      "age     1.000000  0.173737  0.185085  0.335428  0.260061  0.219243 -0.075181  \\\n",
      "sex     0.173737  1.000000  0.088161  0.241010  0.035277  0.142637 -0.379090   \n",
      "bmi     0.185085  0.088161  1.000000  0.395411  0.249777  0.261170 -0.366811   \n",
      "bp      0.335428  0.241010  0.395411  1.000000  0.242464  0.185548 -0.178762   \n",
      "s1      0.260061  0.035277  0.249777  0.242464  1.000000  0.896663  0.051519   \n",
      "s2      0.219243  0.142637  0.261170  0.185548  0.896663  1.000000 -0.196455   \n",
      "s3     -0.075181 -0.379090 -0.366811 -0.178762  0.051519 -0.196455  1.000000   \n",
      "s4      0.203841  0.332115  0.413807  0.257650  0.542207  0.659817 -0.738493   \n",
      "s5      0.270774  0.149916  0.446157  0.393480  0.515503  0.318357 -0.398577   \n",
      "s6      0.301731  0.208133  0.388680  0.390430  0.325717  0.290600 -0.273697   \n",
      "target  0.187889  0.043062  0.586450  0.441482  0.212022  0.174054 -0.394789   \n",
      "\n",
      "              s4        s5        s6    target  \n",
      "age     0.203841  0.270774  0.301731  0.187889  \n",
      "sex     0.332115  0.149916  0.208133  0.043062  \n",
      "bmi     0.413807  0.446157  0.388680  0.586450  \n",
      "bp      0.257650  0.393480  0.390430  0.441482  \n",
      "s1      0.542207  0.515503  0.325717  0.212022  \n",
      "s2      0.659817  0.318357  0.290600  0.174054  \n",
      "s3     -0.738493 -0.398577 -0.273697 -0.394789  \n",
      "s4      1.000000  0.617859  0.417212  0.430453  \n",
      "s5      0.617859  1.000000  0.464669  0.565883  \n",
      "s6      0.417212  0.464669  1.000000  0.382483  \n",
      "target  0.430453  0.565883  0.382483  1.000000  \n"
     ]
    }
   ],
   "source": [
    "\n",
    "corr_matrix = df.corr()\n",
    "print(corr_matrix)"
   ]
  },
  {
   "cell_type": "markdown",
   "metadata": {},
   "source": [
    "### 3.3.1. Get a Visual Representation of the Correlation Matrix using Seaborn"
   ]
  },
  {
   "cell_type": "code",
   "execution_count": 7,
   "metadata": {},
   "outputs": [
    {
     "data": {
      "image/png": "[encoded data removed]",
      "text/plain": [
       "<Figure size 640x480 with 2 Axes>"
      ]
     },
     "metadata": {},
     "output_type": "display_data"
    }
   ],
   "source": [
    "sn.heatmap(corr_matrix, annot=True)\n",
    "plt.title('Matrix Heatmap Graph')\n",
    "plt.xlabel('variables') \n",
    "plt.ylabel('variables')\n",
    "\n",
    "plt.show()"
   ]
  },
  {
   "cell_type": "markdown",
   "metadata": {},
   "source": [
    "The correlation matrix heatmap graph assists in identifying relationships between variables. \n",
    "\n",
    "The diagonal line of 1s represents the correlation of each variable with itself, which is always perfect showing a value of 1.\n",
    "\n",
    "Analyzing the intersection of s2 and s4, we see a correlation of 0.66 that suggests a moderate positive correlation this means that when s2 increases, s4 tends to also increase.\n",
    "\n",
    "On the other hand,  the intersection of s3 and s4 is approximately -0.74 which indicates a strong negative correlation. This indicates that as s3 increases, s4 tends to decrease, and vice versa. "
   ]
  },
  {
   "cell_type": "markdown",
   "metadata": {},
   "source": [
    "# 4. Cleaning the data if needed, and explain your reasoning"
   ]
  },
  {
   "cell_type": "markdown",
   "metadata": {},
   "source": [
    "4.1. To find and fill in the missing data in the dataset, we will use: `df.isnull()` and `df.isnull().any`"
   ]
  },
  {
   "cell_type": "code",
   "execution_count": 8,
   "metadata": {},
   "outputs": [
    {
     "data": {
      "text/html": [
       "<div>\n",
       "<style scoped>\n",
       "    .dataframe tbody tr th:only-of-type {\n",
       "        vertical-align: middle;\n",
       "    }\n",
       "\n",
       "    .dataframe tbody tr th {\n",
       "        vertical-align: top;\n",
       "    }\n",
       "\n",
       "    .dataframe thead th {\n",
       "        text-align: right;\n",
       "    }\n",
       "</style>\n",
       "<table border=\"1\" class=\"dataframe\">\n",
       "  <thead>\n",
       "    <tr style=\"text-align: right;\">\n",
       "      <th></th>\n",
       "      <th>age</th>\n",
       "      <th>sex</th>\n",
       "      <th>bmi</th>\n",
       "      <th>bp</th>\n",
       "      <th>s1</th>\n",
       "      <th>s2</th>\n",
       "      <th>s3</th>\n",
       "      <th>s4</th>\n",
       "      <th>s5</th>\n",
       "      <th>s6</th>\n",
       "      <th>target</th>\n",
       "    </tr>\n",
       "  </thead>\n",
       "  <tbody>\n",
       "    <tr>\n",
       "      <th>0</th>\n",
       "      <td>False</td>\n",
       "      <td>False</td>\n",
       "      <td>False</td>\n",
       "      <td>False</td>\n",
       "      <td>False</td>\n",
       "      <td>False</td>\n",
       "      <td>False</td>\n",
       "      <td>False</td>\n",
       "      <td>False</td>\n",
       "      <td>False</td>\n",
       "      <td>False</td>\n",
       "    </tr>\n",
       "    <tr>\n",
       "      <th>1</th>\n",
       "      <td>False</td>\n",
       "      <td>False</td>\n",
       "      <td>False</td>\n",
       "      <td>False</td>\n",
       "      <td>False</td>\n",
       "      <td>False</td>\n",
       "      <td>False</td>\n",
       "      <td>False</td>\n",
       "      <td>False</td>\n",
       "      <td>False</td>\n",
       "      <td>False</td>\n",
       "    </tr>\n",
       "    <tr>\n",
       "      <th>2</th>\n",
       "      <td>False</td>\n",
       "      <td>False</td>\n",
       "      <td>False</td>\n",
       "      <td>False</td>\n",
       "      <td>False</td>\n",
       "      <td>False</td>\n",
       "      <td>False</td>\n",
       "      <td>False</td>\n",
       "      <td>False</td>\n",
       "      <td>False</td>\n",
       "      <td>False</td>\n",
       "    </tr>\n",
       "    <tr>\n",
       "      <th>3</th>\n",
       "      <td>False</td>\n",
       "      <td>False</td>\n",
       "      <td>False</td>\n",
       "      <td>False</td>\n",
       "      <td>False</td>\n",
       "      <td>False</td>\n",
       "      <td>False</td>\n",
       "      <td>False</td>\n",
       "      <td>False</td>\n",
       "      <td>False</td>\n",
       "      <td>False</td>\n",
       "    </tr>\n",
       "    <tr>\n",
       "      <th>4</th>\n",
       "      <td>False</td>\n",
       "      <td>False</td>\n",
       "      <td>False</td>\n",
       "      <td>False</td>\n",
       "      <td>False</td>\n",
       "      <td>False</td>\n",
       "      <td>False</td>\n",
       "      <td>False</td>\n",
       "      <td>False</td>\n",
       "      <td>False</td>\n",
       "      <td>False</td>\n",
       "    </tr>\n",
       "    <tr>\n",
       "      <th>...</th>\n",
       "      <td>...</td>\n",
       "      <td>...</td>\n",
       "      <td>...</td>\n",
       "      <td>...</td>\n",
       "      <td>...</td>\n",
       "      <td>...</td>\n",
       "      <td>...</td>\n",
       "      <td>...</td>\n",
       "      <td>...</td>\n",
       "      <td>...</td>\n",
       "      <td>...</td>\n",
       "    </tr>\n",
       "    <tr>\n",
       "      <th>437</th>\n",
       "      <td>False</td>\n",
       "      <td>False</td>\n",
       "      <td>False</td>\n",
       "      <td>False</td>\n",
       "      <td>False</td>\n",
       "      <td>False</td>\n",
       "      <td>False</td>\n",
       "      <td>False</td>\n",
       "      <td>False</td>\n",
       "      <td>False</td>\n",
       "      <td>False</td>\n",
       "    </tr>\n",
       "    <tr>\n",
       "      <th>438</th>\n",
       "      <td>False</td>\n",
       "      <td>False</td>\n",
       "      <td>False</td>\n",
       "      <td>False</td>\n",
       "      <td>False</td>\n",
       "      <td>False</td>\n",
       "      <td>False</td>\n",
       "      <td>False</td>\n",
       "      <td>False</td>\n",
       "      <td>False</td>\n",
       "      <td>False</td>\n",
       "    </tr>\n",
       "    <tr>\n",
       "      <th>439</th>\n",
       "      <td>False</td>\n",
       "      <td>False</td>\n",
       "      <td>False</td>\n",
       "      <td>False</td>\n",
       "      <td>False</td>\n",
       "      <td>False</td>\n",
       "      <td>False</td>\n",
       "      <td>False</td>\n",
       "      <td>False</td>\n",
       "      <td>False</td>\n",
       "      <td>False</td>\n",
       "    </tr>\n",
       "    <tr>\n",
       "      <th>440</th>\n",
       "      <td>False</td>\n",
       "      <td>False</td>\n",
       "      <td>False</td>\n",
       "      <td>False</td>\n",
       "      <td>False</td>\n",
       "      <td>False</td>\n",
       "      <td>False</td>\n",
       "      <td>False</td>\n",
       "      <td>False</td>\n",
       "      <td>False</td>\n",
       "      <td>False</td>\n",
       "    </tr>\n",
       "    <tr>\n",
       "      <th>441</th>\n",
       "      <td>False</td>\n",
       "      <td>False</td>\n",
       "      <td>False</td>\n",
       "      <td>False</td>\n",
       "      <td>False</td>\n",
       "      <td>False</td>\n",
       "      <td>False</td>\n",
       "      <td>False</td>\n",
       "      <td>False</td>\n",
       "      <td>False</td>\n",
       "      <td>False</td>\n",
       "    </tr>\n",
       "  </tbody>\n",
       "</table>\n",
       "<p>442 rows × 11 columns</p>\n",
       "</div>"
      ],
      "text/plain": [
       "       age    sex    bmi     bp     s1     s2     s3     s4     s5     s6   \n",
       "0    False  False  False  False  False  False  False  False  False  False  \\\n",
       "1    False  False  False  False  False  False  False  False  False  False   \n",
       "2    False  False  False  False  False  False  False  False  False  False   \n",
       "3    False  False  False  False  False  False  False  False  False  False   \n",
       "4    False  False  False  False  False  False  False  False  False  False   \n",
       "..     ...    ...    ...    ...    ...    ...    ...    ...    ...    ...   \n",
       "437  False  False  False  False  False  False  False  False  False  False   \n",
       "438  False  False  False  False  False  False  False  False  False  False   \n",
       "439  False  False  False  False  False  False  False  False  False  False   \n",
       "440  False  False  False  False  False  False  False  False  False  False   \n",
       "441  False  False  False  False  False  False  False  False  False  False   \n",
       "\n",
       "     target  \n",
       "0     False  \n",
       "1     False  \n",
       "2     False  \n",
       "3     False  \n",
       "4     False  \n",
       "..      ...  \n",
       "437   False  \n",
       "438   False  \n",
       "439   False  \n",
       "440   False  \n",
       "441   False  \n",
       "\n",
       "[442 rows x 11 columns]"
      ]
     },
     "execution_count": 8,
     "metadata": {},
     "output_type": "execute_result"
    }
   ],
   "source": [
    "df.isnull()"
   ]
  },
  {
   "cell_type": "code",
   "execution_count": 9,
   "metadata": {},
   "outputs": [
    {
     "data": {
      "text/plain": [
       "age       False\n",
       "sex       False\n",
       "bmi       False\n",
       "bp        False\n",
       "s1        False\n",
       "s2        False\n",
       "s3        False\n",
       "s4        False\n",
       "s5        False\n",
       "s6        False\n",
       "target    False\n",
       "dtype: bool"
      ]
     },
     "execution_count": 9,
     "metadata": {},
     "output_type": "execute_result"
    }
   ],
   "source": [
    "df.isnull().any()"
   ]
  },
  {
   "cell_type": "markdown",
   "metadata": {},
   "source": [
    "By implementing these two functions above we can assume that there are no missing data in the dataset."
   ]
  },
  {
   "cell_type": "markdown",
   "metadata": {},
   "source": [
    "4.2. To find duplicate values in the dataset, we will use a simple dataframe function, i.e., `duplicated()`."
   ]
  },
  {
   "cell_type": "code",
   "execution_count": 10,
   "metadata": {},
   "outputs": [
    {
     "data": {
      "text/plain": [
       "0      False\n",
       "1      False\n",
       "2      False\n",
       "3      False\n",
       "4      False\n",
       "       ...  \n",
       "437    False\n",
       "438    False\n",
       "439    False\n",
       "440    False\n",
       "441    False\n",
       "Length: 442, dtype: bool"
      ]
     },
     "execution_count": 10,
     "metadata": {},
     "output_type": "execute_result"
    }
   ],
   "source": [
    "df.duplicated()"
   ]
  },
  {
   "cell_type": "code",
   "execution_count": 11,
   "metadata": {},
   "outputs": [
    {
     "data": {
      "text/plain": [
       "False"
      ]
     },
     "execution_count": 11,
     "metadata": {},
     "output_type": "execute_result"
    }
   ],
   "source": [
    "df.duplicated().any()"
   ]
  },
  {
   "cell_type": "markdown",
   "metadata": {},
   "source": [
    "By implementing these two functions above we can assume that there are no duplicate data in the dataset."
   ]
  },
  {
   "cell_type": "markdown",
   "metadata": {},
   "source": [
    "So we can presume that no cleaning of the data is needed. "
   ]
  },
  {
   "cell_type": "markdown",
   "metadata": {},
   "source": [
    "![image](https://www.mdanderson.org/content/mda/en/cancerwise/2021/09/diabetes-as-a-side-effect-of-cancer-treatment--8-things-to-know/jcr:content/blog/adaptiveimage.resize.648.0.medium.jpg/1631309935060.jpg)"
   ]
  },
  {
   "cell_type": "markdown",
   "metadata": {},
   "source": [
    "# 5. Split the dataset to a train (70%), validation (15%) and test (15%) sets"
   ]
  },
  {
   "cell_type": "code",
   "execution_count": 12,
   "metadata": {},
   "outputs": [],
   "source": [
    "from sklearn import datasets\n",
    "from sklearn.model_selection import train_test_split\n",
    "\n",
    "# Load the diabetes dataset\n",
    "diabetes = datasets.load_diabetes()\n",
    "X, y = diabetes.data, diabetes.target\n",
    "\n",
    "# First split: 70% train, 30% temp (for validation and test)\n",
    "X_train, X_temp, y_train, y_temp = train_test_split(X, y, test_size=0.3)\n",
    "\n",
    "# Second split: Split the temp into 50% validation, 50% test (which is 15% of the total each)\n",
    "X_val, X_test, y_val, y_test = train_test_split(X_temp, y_temp, test_size=0.5)\n",
    "\n",
    "\n",
    "# Now you have:\n",
    "# X_train, y_train - 70% of the data for training\n",
    "# X_val, y_val - 15% of the data for validation\n",
    "# X_test, y_test - 15% of the data for testing"
   ]
  },
  {
   "cell_type": "markdown",
   "metadata": {},
   "source": [
    "# 6. Runing a polynomial regression on the BMI feature versus the \" disease progression one year after baseline\" - from degree 0 to 5 "
   ]
  },
  {
   "cell_type": "code",
   "execution_count": 13,
   "metadata": {},
   "outputs": [],
   "source": [
    "from sklearn import datasets\n",
    "from sklearn.model_selection import train_test_split\n",
    "from sklearn.preprocessing import PolynomialFeatures\n",
    "from sklearn.linear_model import LinearRegression\n",
    "from sklearn.metrics import r2_score, mean_absolute_error\n",
    "import numpy as np\n",
    "\n",
    "# Load the diabetes dataset\n",
    "diabetes = datasets.load_diabetes()\n",
    "X = diabetes.data[:, np.newaxis, 2]  # Selecting the BMI feature\n",
    "y = diabetes.target  # Disease progression one year after baseline\n",
    "\n",
    "# Split the dataset into training, validation, and test sets\n",
    "# First split: 70% train, 30% temp (for validation and test)\n",
    "X_train, X_temp, y_train, y_temp = train_test_split(X, y, test_size=0.3)\n",
    "\n",
    "# Second split: Split the temp into 50% validation, 50% test (which is 15% of the total each)\n",
    "X_val, X_test, y_val, y_test = train_test_split(X_temp, y_temp, test_size=0.5)\n",
    "\n",
    "degrees = range(6)\n",
    "\n",
    "# Placeholder lists for storing predictions\n",
    "y_train_preds, y_val_preds = [], []\n",
    "\n",
    "# Loop through degrees 0 to 5\n",
    "for degree in degrees:\n",
    "    # Polynomial feature transformation\n",
    "    poly_features = PolynomialFeatures(degree=degree)\n",
    "    X_train_poly = poly_features.fit_transform(X_train)\n",
    "    X_val_poly = poly_features.transform(X_val)\n",
    "\n",
    "    # Linear regression model\n",
    "    model = LinearRegression()\n",
    "    model.fit(X_train_poly, y_train)\n",
    "\n",
    "    # Store predictions in the lists\n",
    "    y_train_preds.append(model.predict(X_train_poly))\n",
    "    y_val_preds.append(model.predict(X_val_poly))\n",
    "\n",
    "\n",
    "\n",
    "\n"
   ]
  },
  {
   "cell_type": "markdown",
   "metadata": {},
   "source": [
    "# 7. Comparing the six models using the training and validation data: "
   ]
  },
  {
   "cell_type": "markdown",
   "metadata": {},
   "source": [
    "## 7.1. Reporting R-squared, MAPE and MAE, here we have 6 values per model."
   ]
  },
  {
   "cell_type": "code",
   "execution_count": 14,
   "metadata": {},
   "outputs": [
    {
     "name": "stdout",
     "output_type": "stream",
     "text": [
      "Degree 0:\n",
      "  R2 (Train): 0.0\n",
      "  R2 (Validation): -0.004195556541086054\n",
      "  MAPE (Train): 63.811724788455656%\n",
      "  MAPE (Validation): 64.03267929014469%\n",
      "  MAE (Train): 67.02321927922831\n",
      "  MAE (Validation): 65.85054427772874\n",
      "\n",
      "Degree 1:\n",
      "  R2 (Train): 0.3641181128648233\n",
      "  R2 (Validation): 0.3434606218449382\n",
      "  MAPE (Train): 47.74241629729607%\n",
      "  MAPE (Validation): 46.762253774895264%\n",
      "  MAE (Train): 51.29607753827131\n",
      "  MAE (Validation): 51.39481400008616\n",
      "\n",
      "Degree 2:\n",
      "  R2 (Train): 0.36447026824564666\n",
      "  R2 (Validation): 0.3468841399092546\n",
      "  MAPE (Train): 47.727191585380396%\n",
      "  MAPE (Validation): 46.59416767090948%\n",
      "  MAE (Train): 51.25765747620631\n",
      "  MAE (Validation): 51.267474973356116\n",
      "\n",
      "Degree 3:\n",
      "  R2 (Train): 0.36447115199738656\n",
      "  R2 (Validation): 0.3470421020872059\n",
      "  MAPE (Train): 47.72216278919469%\n",
      "  MAPE (Validation): 46.5777000363388%\n",
      "  MAE (Train): 51.25540294496652\n",
      "  MAE (Validation): 51.2504326194494\n",
      "\n",
      "Degree 4:\n",
      "  R2 (Train): 0.3667309999437762\n",
      "  R2 (Validation): 0.34700249447493303\n",
      "  MAPE (Train): 47.42426771471061%\n",
      "  MAPE (Validation): 46.06656315333152%\n",
      "  MAE (Train): 51.045667507792245\n",
      "  MAE (Validation): 50.77538289520486\n",
      "\n",
      "Degree 5:\n",
      "  R2 (Train): 0.36750401472313865\n",
      "  R2 (Validation): 0.3449303523090468\n",
      "  MAPE (Train): 47.3810257767494%\n",
      "  MAPE (Validation): 46.18180119724994%\n",
      "  MAE (Train): 50.948322795199324\n",
      "  MAE (Validation): 50.98672692365799\n",
      "\n"
     ]
    }
   ],
   "source": [
    "# Function to calculate Mean Absolute Percentage Error\n",
    "def mean_absolute_percentage_error(y_true, y_pred): \n",
    "    y_true, y_pred = np.array(y_true), np.array(y_pred)\n",
    "    return np.mean(np.abs((y_true - y_pred) / y_true)) * 100\n",
    "\n",
    "# Placeholder lists for storing metrics\n",
    "r2_scores_train, r2_scores_val = [], []\n",
    "mape_scores_train, mape_scores_val = [], []\n",
    "mae_scores_train, mae_scores_val = [], []\n",
    "\n",
    "degrees = range(6)\n",
    "\n",
    "# Calculate and store metrics for each set of predictions\n",
    "for i, degree in enumerate(degrees):\n",
    "    r2_scores_train.append(r2_score(y_train, y_train_preds[i]))\n",
    "    r2_scores_val.append(r2_score(y_val, y_val_preds[i]))\n",
    "    mape_scores_train.append(mean_absolute_percentage_error(y_train, y_train_preds[i]))\n",
    "    mape_scores_val.append(mean_absolute_percentage_error(y_val, y_val_preds[i]))\n",
    "    mae_scores_train.append(mean_absolute_error(y_train, y_train_preds[i]))\n",
    "    mae_scores_val.append(mean_absolute_error(y_val, y_val_preds[i]))\n",
    "\n",
    "# Results\n",
    "for degree in degrees:\n",
    "    print(f\"Degree {degree}:\")\n",
    "    print(f\"  R2 (Train): {r2_scores_train[degree]}\")\n",
    "    print(f\"  R2 (Validation): {r2_scores_val[degree]}\")\n",
    "    print(f\"  MAPE (Train): {mape_scores_train[degree]}%\")\n",
    "    print(f\"  MAPE (Validation): {mape_scores_val[degree]}%\")\n",
    "    print(f\"  MAE (Train): {mae_scores_train[degree]}\")\n",
    "    print(f\"  MAE (Validation): {mae_scores_val[degree]}\\n\")\n",
    "\n"
   ]
  },
  {
   "cell_type": "code",
   "execution_count": 15,
   "metadata": {},
   "outputs": [
    {
     "data": {
      "text/html": [
       "<div>\n",
       "<style scoped>\n",
       "    .dataframe tbody tr th:only-of-type {\n",
       "        vertical-align: middle;\n",
       "    }\n",
       "\n",
       "    .dataframe tbody tr th {\n",
       "        vertical-align: top;\n",
       "    }\n",
       "\n",
       "    .dataframe thead th {\n",
       "        text-align: right;\n",
       "    }\n",
       "</style>\n",
       "<table border=\"1\" class=\"dataframe\">\n",
       "  <thead>\n",
       "    <tr style=\"text-align: right;\">\n",
       "      <th></th>\n",
       "      <th>Degree</th>\n",
       "      <th>R2 (Train)</th>\n",
       "      <th>R2 (Validation)</th>\n",
       "      <th>MAPE (Train)</th>\n",
       "      <th>MAPE (Validation)</th>\n",
       "      <th>MAE (Train)</th>\n",
       "      <th>MAE (Validation)</th>\n",
       "    </tr>\n",
       "  </thead>\n",
       "  <tbody>\n",
       "    <tr>\n",
       "      <th>0</th>\n",
       "      <td>0</td>\n",
       "      <td>0.000000</td>\n",
       "      <td>-0.004196</td>\n",
       "      <td>63.811725</td>\n",
       "      <td>64.032679</td>\n",
       "      <td>67.023219</td>\n",
       "      <td>65.850544</td>\n",
       "    </tr>\n",
       "    <tr>\n",
       "      <th>1</th>\n",
       "      <td>1</td>\n",
       "      <td>0.364118</td>\n",
       "      <td>0.343461</td>\n",
       "      <td>47.742416</td>\n",
       "      <td>46.762254</td>\n",
       "      <td>51.296078</td>\n",
       "      <td>51.394814</td>\n",
       "    </tr>\n",
       "    <tr>\n",
       "      <th>2</th>\n",
       "      <td>2</td>\n",
       "      <td>0.364470</td>\n",
       "      <td>0.346884</td>\n",
       "      <td>47.727192</td>\n",
       "      <td>46.594168</td>\n",
       "      <td>51.257657</td>\n",
       "      <td>51.267475</td>\n",
       "    </tr>\n",
       "    <tr>\n",
       "      <th>3</th>\n",
       "      <td>3</td>\n",
       "      <td>0.364471</td>\n",
       "      <td>0.347042</td>\n",
       "      <td>47.722163</td>\n",
       "      <td>46.577700</td>\n",
       "      <td>51.255403</td>\n",
       "      <td>51.250433</td>\n",
       "    </tr>\n",
       "    <tr>\n",
       "      <th>4</th>\n",
       "      <td>4</td>\n",
       "      <td>0.366731</td>\n",
       "      <td>0.347002</td>\n",
       "      <td>47.424268</td>\n",
       "      <td>46.066563</td>\n",
       "      <td>51.045668</td>\n",
       "      <td>50.775383</td>\n",
       "    </tr>\n",
       "    <tr>\n",
       "      <th>5</th>\n",
       "      <td>5</td>\n",
       "      <td>0.367504</td>\n",
       "      <td>0.344930</td>\n",
       "      <td>47.381026</td>\n",
       "      <td>46.181801</td>\n",
       "      <td>50.948323</td>\n",
       "      <td>50.986727</td>\n",
       "    </tr>\n",
       "  </tbody>\n",
       "</table>\n",
       "</div>"
      ],
      "text/plain": [
       "   Degree  R2 (Train)  R2 (Validation)  MAPE (Train)  MAPE (Validation)   \n",
       "0       0    0.000000        -0.004196     63.811725          64.032679  \\\n",
       "1       1    0.364118         0.343461     47.742416          46.762254   \n",
       "2       2    0.364470         0.346884     47.727192          46.594168   \n",
       "3       3    0.364471         0.347042     47.722163          46.577700   \n",
       "4       4    0.366731         0.347002     47.424268          46.066563   \n",
       "5       5    0.367504         0.344930     47.381026          46.181801   \n",
       "\n",
       "   MAE (Train)  MAE (Validation)  \n",
       "0    67.023219         65.850544  \n",
       "1    51.296078         51.394814  \n",
       "2    51.257657         51.267475  \n",
       "3    51.255403         51.250433  \n",
       "4    51.045668         50.775383  \n",
       "5    50.948323         50.986727  "
      ]
     },
     "execution_count": 15,
     "metadata": {},
     "output_type": "execute_result"
    }
   ],
   "source": [
    "# Create a DataFrame\n",
    "results_df = pd.DataFrame({\n",
    "    'Degree': degrees,\n",
    "    'R2 (Train)': r2_scores_train,\n",
    "    'R2 (Validation)': r2_scores_val,\n",
    "    'MAPE (Train)': mape_scores_train,\n",
    "    'MAPE (Validation)': mape_scores_val,\n",
    "    'MAE (Train)': mae_scores_train,\n",
    "    'MAE (Validation)': mae_scores_val\n",
    "})\n",
    "\n",
    "results_df"
   ]
  },
  {
   "cell_type": "markdown",
   "metadata": {},
   "source": [
    "![image](https://www.intimina.com/blog/wp-content/uploads/2013/12/INTIMINA-40-4-myths-about-diabetes-busted.jpg)"
   ]
  },
  {
   "cell_type": "markdown",
   "metadata": {},
   "source": [
    "## 7.2. Conclusion: This section includes the takeaway of the notebook"
   ]
  },
  {
   "cell_type": "markdown",
   "metadata": {},
   "source": [
    "### 7.2.0. Choosing the best model and explaining the reasoning quantitatively. Making it clear, and effective for a product manager to understand."
   ]
  },
  {
   "cell_type": "markdown",
   "metadata": {},
   "source": [
    "Knowing the best model involves looking for:\n",
    "\n",
    "The highest R² value on the validation dataset: Indicates the model's effectiveness in explaining the variance.\n",
    "The lowest MAPE and MAE values on the validation dataset: Suggest the model's accuracy in predicting the target variable, with lower errors being preferable.\n",
    "\n",
    "Analyzing our table data on item 7.1 we can see that the highest R² is in the **degree 5 model** with R² = 0.407537 on validation, and the second highest R² is in the **degree 4 model** with R² = 0.400313 on validation. \n",
    "\n",
    "The table data on item 7.1, shows that the lowest MAPE and MAE on the validation dataset can be found **degree 5 model** with MAPE = 44.649157, MAE = 50.792581. \n",
    "\n",
    "So the best model seems to be the **degree 5 model**, with the highest R² and lowest MAPE and MAE."
   ]
  },
  {
   "cell_type": "markdown",
   "metadata": {},
   "source": [
    "### 7.2.1. Running the chosen model on the test set, and report R-Squared, MSE and MAE for it "
   ]
  },
  {
   "cell_type": "code",
   "execution_count": 16,
   "metadata": {},
   "outputs": [
    {
     "name": "stdout",
     "output_type": "stream",
     "text": [
      "R-Squared (R²) on Test Set: 0.21582473125094814\n",
      "Mean Squared Error (MSE) on Test Set: 4244.132989538132\n",
      "Mean Absolute Error (MAE) on Test Set: 53.703633016359014\n"
     ]
    }
   ],
   "source": [
    "from sklearn.preprocessing import PolynomialFeatures\n",
    "from sklearn.linear_model import LinearRegression\n",
    "from sklearn.metrics import r2_score, mean_squared_error, mean_absolute_error\n",
    "import numpy as np\n",
    "import matplotlib.pyplot as plt\n",
    "\n",
    "# Assuming X_train, X_val, X_test are your datasets containing only the BMI feature\n",
    "# and y_train, y_val, y_test are your target datasets.\n",
    "\n",
    "# Apply polynomial transformation of degree 5 to the BMI feature\n",
    "poly = PolynomialFeatures(degree=5)\n",
    "X_train_poly = poly.fit_transform(X_train.reshape(-1, 1))  # Reshape if necessary\n",
    "X_val_poly = poly.transform(X_val.reshape(-1, 1))\n",
    "X_test_poly = poly.transform(X_test.reshape(-1, 1))\n",
    "\n",
    "# Train the Linear Regression model on the polynomially transformed training data\n",
    "model = LinearRegression()\n",
    "model.fit(X_train_poly, y_train)\n",
    "\n",
    "# Make predictions on the test set\n",
    "y_test_pred = model.predict(X_test_poly)\n",
    "\n",
    "# Calculate evaluation metrics for the test set\n",
    "r2_test = r2_score(y_test, y_test_pred)\n",
    "mse_test = mean_squared_error(y_test, y_test_pred)\n",
    "mae_test = mean_absolute_error(y_test, y_test_pred)\n",
    "\n",
    "# Reporting R-Squared, MSE and MAE for it:  \n",
    "print(f\"R-Squared (R²) on Test Set: {r2_test}\")\n",
    "print(f\"Mean Squared Error (MSE) on Test Set: {mse_test}\")\n",
    "print(f\"Mean Absolute Error (MAE) on Test Set: {mae_test}\")\n",
    "\n",
    "\n",
    "\n"
   ]
  },
  {
   "cell_type": "markdown",
   "metadata": {},
   "source": [
    "### 7.2.2. Ploting a graph of the train, validation and test datapoints, and the fit of the chosen model over each of them"
   ]
  },
  {
   "cell_type": "code",
   "execution_count": 17,
   "metadata": {},
   "outputs": [
    {
     "data": {
      "image/png": "[encoded data removed]",
      "text/plain": [
       "<Figure size 1000x600 with 1 Axes>"
      ]
     },
     "metadata": {},
     "output_type": "display_data"
    }
   ],
   "source": [
    "# Preparing data for plotting the model's fit\n",
    "# Generate a range of BMI values for plotting\n",
    "X_range = np.linspace(X_train.min(), X_train.max(), 100).reshape(-1, 1)\n",
    "X_range_poly = poly.transform(X_range)\n",
    "\n",
    "# Predict disease progression for the generated range of BMI values\n",
    "y_range_pred = model.predict(X_range_poly)\n",
    "\n",
    "\n",
    "# Plotting\n",
    "plt.figure(figsize=(10, 6))\n",
    "plt.scatter(X_train, y_train, color='blue', alpha=0.5, label='Train Data')\n",
    "plt.scatter(X_val, y_val, color='green', alpha=0.5, label='Validation Data')\n",
    "plt.scatter(X_test, y_test, color='red', alpha=0.5, label='Test Data')\n",
    "plt.plot(X_range, y_range_pred, color='black', label='Polynomial Model Fit')\n",
    "plt.title('Polynomial Regression Fit (Degree 5) for BMI Feature')\n",
    "plt.xlabel('BMI')\n",
    "plt.ylabel('Disease Progression')\n",
    "plt.legend()\n",
    "plt.show()\n",
    "\n"
   ]
  },
  {
   "cell_type": "markdown",
   "metadata": {},
   "source": [
    "### 7.2.3. Writing down the equation of the best model (with a two decimal digit precision, assuming it's sufficient). "
   ]
  },
  {
   "cell_type": "code",
   "execution_count": 18,
   "metadata": {},
   "outputs": [
    {
     "name": "stdout",
     "output_type": "stream",
     "text": [
      "[ 0.00000000e+00  1.13979678e+03 -3.71565768e+03 -1.48655146e+04\n",
      "  7.99568800e+05 -3.87766889e+06]\n",
      "155.33608577849245\n"
     ]
    }
   ],
   "source": [
    "# Load the diabetes dataset\n",
    "diabetes = datasets.load_diabetes()\n",
    "\n",
    "# Use only one feature for simplicity (BMI is at index 2)\n",
    "X = diabetes.data[:, np.newaxis, 2]\n",
    "y = diabetes.target\n",
    "\n",
    "# Split the data into training/testing sets\n",
    "X_train, X_test, y_train, y_test = train_test_split(X, y, test_size=0.3, random_state=0)\n",
    "\n",
    "# Create a polynomial features transformer and fit it to your feature data\n",
    "poly_transformer = PolynomialFeatures(degree=5)\n",
    "\n",
    "# Transform your feature data into a polynomial feature matrix\n",
    "X_train_poly = poly_transformer.fit_transform(X_train)\n",
    "\n",
    "# Fit a linear regression model to the polynomial feature matrix and the target data\n",
    "model = LinearRegression()\n",
    "model.fit(X_train_poly, y_train)\n",
    "\n",
    "# Extract the coefficients and the intercept from the fitted model\n",
    "coefficients = model.coef_\n",
    "intercept = model.intercept_\n",
    "\n",
    "print (coefficients)\n",
    "print (intercept)"
   ]
  },
  {
   "cell_type": "code",
   "execution_count": 19,
   "metadata": {},
   "outputs": [
    {
     "name": "stdout",
     "output_type": "stream",
     "text": [
      "Intercept (constant term, a): 155.34\n",
      "Coefficient for x (BMI, b): 1139.80\n",
      "Coefficient for x^2 (BMI, c): -3715.66\n",
      "Coefficient for x^3 (BMI, d): -14865.51\n",
      "Coefficient for x^4 (BMI, e): 799568.80\n",
      "Coefficient for x^5 (BMI, f): -3877668.89\n"
     ]
    }
   ],
   "source": [
    "print(f\"Intercept (constant term, a): {intercept:.2f}\")\n",
    "print(f\"Coefficient for x (BMI, b): {coefficients[1]:.2f}\")\n",
    "print(f\"Coefficient for x^2 (BMI, c): {coefficients[2]:.2f}\")\n",
    "print(f\"Coefficient for x^3 (BMI, d): {coefficients[3]:.2f}\")\n",
    "print(f\"Coefficient for x^4 (BMI, e): {coefficients[4]:.2f}\")\n",
    "print(f\"Coefficient for x^5 (BMI, f): {coefficients[5]:.2f}\")\n"
   ]
  },
  {
   "cell_type": "code",
   "execution_count": 20,
   "metadata": {},
   "outputs": [
    {
     "name": "stdout",
     "output_type": "stream",
     "text": [
      "The equation of the fitted polynomial model is:\n",
      " \n",
      "Y = 155.34 + 1139.80X -3715.66X^2 -14865.51X^3 + 799568.80X^4 -3877668.89X^5\n"
     ]
    }
   ],
   "source": [
    "print(\"The equation of the fitted polynomial model is:\\n \")\n",
    "print( f\"Y = {intercept:.2f} + {coefficients[1]:.2f}X {coefficients[2]:.2f}X^2 {coefficients[3]:.2f}X^3 + {coefficients[4]:.2f}X^4 {coefficients[5]:.2f}X^5\")\n"
   ]
  },
  {
   "cell_type": "markdown",
   "metadata": {},
   "source": [
    "### 7.2.3.1. Manually calculate the expected diabetes progression for a BMI value of your choice"
   ]
  },
  {
   "cell_type": "code",
   "execution_count": 21,
   "metadata": {},
   "outputs": [],
   "source": [
    "# Choose a BMI value for the prediction comparison\n",
    "bmi_value = 12  # Example BMI value\n",
    "\n",
    "# Define a function to manually calculate the prediction using the polynomial equation\n",
    "def manual_predict(x, coefficients, intercept):\n",
    "    # Calculate the polynomial result manually\n",
    "    result = intercept\n",
    "    for i in range(1, len(coefficients)):\n",
    "        result += coefficients[i] * (x ** i)\n",
    "    return result\n",
    "\n",
    "# Manually calculate the expected diabetes progression for the chosen BMI value\n",
    "manual_prediction = manual_predict(bmi_value, coefficients, intercept)"
   ]
  },
  {
   "cell_type": "markdown",
   "metadata": {},
   "source": [
    "### 7.2.3.2. Compare it to model.perdict() for that value"
   ]
  },
  {
   "cell_type": "code",
   "execution_count": 22,
   "metadata": {},
   "outputs": [
    {
     "data": {
      "text/plain": [
       "(-948334454684.9126, -948334454684.9126)"
      ]
     },
     "execution_count": 22,
     "metadata": {},
     "output_type": "execute_result"
    }
   ],
   "source": [
    "\n",
    "\n",
    "# Prepare the BMI value in the same format as the training data for model prediction\n",
    "bmi_value_transformed = poly_transformer.transform([[bmi_value]])\n",
    "\n",
    "# Use the trained model to predict the diabetes progression for the chosen BMI value\n",
    "model_prediction = model.predict(bmi_value_transformed)\n",
    "\n",
    "(manual_prediction, model_prediction[0])"
   ]
  },
  {
   "cell_type": "markdown",
   "metadata": {},
   "source": [
    "The manual_prediction and model_prediction[0] match, which confirms that the methods are consistent with each other, for a BMI value of 12 using the degree 5 polynomial model."
   ]
  },
  {
   "cell_type": "markdown",
   "metadata": {},
   "source": [
    "## 7.3. How many trainable parameters are we fitting for each of the six models? Explain these values. One way is to use sklearn function get_feature_names_out()"
   ]
  },
  {
   "cell_type": "code",
   "execution_count": 23,
   "metadata": {},
   "outputs": [
    {
     "name": "stdout",
     "output_type": "stream",
     "text": [
      "Degree 0: 2 parameters (['1'])\n",
      "Degree 1: 3 parameters (['1' 'x0'])\n",
      "Degree 2: 4 parameters (['1' 'x0' 'x0^2'])\n",
      "Degree 3: 5 parameters (['1' 'x0' 'x0^2' 'x0^3'])\n",
      "Degree 4: 6 parameters (['1' 'x0' 'x0^2' 'x0^3' 'x0^4'])\n",
      "Degree 5: 7 parameters (['1' 'x0' 'x0^2' 'x0^3' 'x0^4' 'x0^5'])\n"
     ]
    }
   ],
   "source": [
    "degrees = range(6)  # Degrees 0 through 5\n",
    "\n",
    "for degree in degrees:\n",
    "    # Transform the features to polynomial features of degree 'degree'\n",
    "    poly_features = PolynomialFeatures(degree=degree)\n",
    "    X_train_poly = poly_features.fit_transform(X_train)\n",
    "    \n",
    "      # Use get_feature_names_out() to get the names of the generated features\n",
    "    feature_names = poly_features.get_feature_names_out()\n",
    "    \n",
    "    # The number of trainable parameters in LinearRegression is the number of features (after transformation) + 1 (for the intercept)\n",
    "    n_parameters = len(feature_names) + 1  # +1 for the intercept term\n",
    "    \n",
    "    print(f\"Degree {degree}: {n_parameters} parameters ({feature_names})\")"
   ]
  },
  {
   "cell_type": "markdown",
   "metadata": {},
   "source": [
    "Trainable parameters in a linear regression model are the coefficients that the model learns for each feature in the dataset, along with an intercept (or bias) term. When you train a linear regression model on transformed features the number of features increases.The trainable parameters are what the model adjusts to fit the training data best. "
   ]
  }
 ],
 "metadata": {
  "kernelspec": {
   "display_name": "CSCN8010_classic_ml",
   "language": "python",
   "name": "cscn8010_classic_ml"
  },
  "language_info": {
   "codemirror_mode": {
    "name": "ipython",
    "version": 3
   },
   "file_extension": ".py",
   "mimetype": "text/x-python",
   "name": "python",
   "nbconvert_exporter": "python",
   "pygments_lexer": "ipython3",
   "version": "3.11.7"
  }
 },
 "nbformat": 4,
 "nbformat_minor": 2
}
